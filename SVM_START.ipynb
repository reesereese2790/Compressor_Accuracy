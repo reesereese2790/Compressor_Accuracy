{
 "cells": [
  {
   "cell_type": "code",
   "execution_count": 45,
   "id": "835c47d6-962e-4ee0-b830-dfb265b36252",
   "metadata": {},
   "outputs": [],
   "source": [
    "import numpy as np\n",
    "import pandas as pd\n",
    "from sklearn.svm import SVC\n",
    "from sklearn.model_selection import train_test_split\n",
    "from sklearn.metrics import accuracy_score, confusion_matrix, roc_curve, auc\n",
    "from sklearn.preprocessing import StandardScaler\n",
    "import matplotlib.pyplot as plt\n",
    "from sklearn.model_selection import GridSearchCV\n",
    "from sklearn.calibration import CalibratedClassifierCV\n",
    "import shap\n",
    "from sklearn.multiclass import OneVsRestClassifier \n",
    "from tabulate import tabulate\n",
    "import os"
   ]
  },
  {
   "cell_type": "code",
   "execution_count": 46,
   "id": "032050b2-03bb-4ba4-bc1d-c68db21bf59a",
   "metadata": {},
   "outputs": [
    {
     "name": "stderr",
     "output_type": "stream",
     "text": [
      "C:\\Users\\arm20dh\\AppData\\Local\\Temp\\ipykernel_22984\\1528010683.py:40: FutureWarning: The behavior of DataFrame concatenation with empty or all-NA entries is deprecated. In a future version, this will no longer exclude empty or all-NA columns when determining the result dtypes. To retain the old behavior, exclude the relevant entries before the concat operation.\n",
      "  results_df = pd.concat([results_df, new_row], ignore_index=True)\n"
     ]
    },
    {
     "name": "stdout",
     "output_type": "stream",
     "text": [
      "The average accuracy from the test set is  0.66\n",
      "84    0.685\n",
      "48    0.675\n",
      "72    0.675\n",
      "83    0.675\n",
      "61    0.675\n",
      "      ...  \n",
      "0      0.58\n",
      "55    0.575\n",
      "20    0.525\n",
      "85    0.505\n",
      "25     0.48\n",
      "Name: average, Length: 90, dtype: object\n",
      "The highest percent increase in accuracy is 0.03787878787878791\n"
     ]
    }
   ],
   "source": [
    "#Make X and y readable for the SVM model\n",
    "X = pd.read_csv(\"C:/Users/arm20dh/OneDrive - Florida State University/Desktop/Career/Personal_Project/Raw_Data_Csv_X.csv\")\n",
    "y = pd.read_csv(\"C:/Users/arm20dh/OneDrive - Florida State University/Desktop/Career/Personal_Project/Raw_Data_Csv_target.csv\")\n",
    "X = X.drop(X.columns[0],axis=1)\n",
    "y = y.drop(y.columns[0],axis=1)\n",
    "y = y.values.ravel()\n",
    "ind = np.arange(999)\n",
    "\n",
    "\n",
    "column_names = ['column_' + str(i) for i in range(iterations)]\n",
    "average_compress_test = pd.DataFrame(columns=column_names)\n",
    "accuracy_list = []\n",
    "best_percent = []\n",
    "\n",
    "X_train, X_test, y_train, y_test, train_indices, test_indices = train_test_split(X, y, ind, test_size=0.2)\n",
    "\n",
    "#STANDARD SCALER\n",
    "scaler = StandardScaler()\n",
    "X_train = scaler.fit_transform(X_train)\n",
    "X_test = scaler.transform(X_test)\n",
    "\n",
    "#MODEL + ACCURACY\n",
    "svm_model = SVC(kernel = 'rbf', C = 8, gamma = 'scale')\n",
    "svm_model.fit(X_train, y_train)\n",
    "y_pred = svm_model.predict(X_test)\n",
    "accuracy = accuracy_score(y_test,y_pred)\n",
    "accuracy_list.append(accuracy)\n",
    "\n",
    "folder_path = \"C:/Users/arm20dh/OneDrive - Florida State University/Desktop/Career/Personal_Project/Preprocessed_Compressed_CSV\"\n",
    "results_df = pd.DataFrame(columns=['Filename', 'Accuracy'])\n",
    "for filename in os.listdir(folder_path):\n",
    "    if filename.endswith('.csv'):\n",
    "        file_path = os.path.join(folder_path,filename)\n",
    "        data = pd.read_csv(file_path)\n",
    "        data = data.drop(data.columns[0],axis=1)\n",
    "        data = scaler.transform(data)\n",
    "        data = data[test_indices]\n",
    "        data_accuracy = accuracy_score(y_test,svm_model.predict(data))\n",
    "        new_row = pd.DataFrame({'Filename': [filename], 'Accuracy': [data_accuracy]})\n",
    "        results_df = pd.concat([results_df, new_row], ignore_index=True)\n",
    "average_compress_test = pd.concat([average_compress_test,results_df['Accuracy']],axis = 1)\n",
    "best_percent.append((max(average_compress_test.mean(axis=1)-np.mean(accuracy_list))/np.mean(accuracy_list)))\n",
    "print(\"The average accuracy from the test set is \",np.mean(accuracy_list))\n",
    "average_compress_test['average'] = average_compress_test.mean(axis=1)\n",
    "average_compress_test = average_compress_test.sort_values('average', ascending=False)\n",
    "print(average_compress_test['average'])\n",
    "print(\"The highest percent increase in accuracy is\",np.mean(best_percent))"
   ]
  }
 ],
 "metadata": {
  "kernelspec": {
   "display_name": "Python 3 (ipykernel)",
   "language": "python",
   "name": "python3"
  },
  "language_info": {
   "codemirror_mode": {
    "name": "ipython",
    "version": 3
   },
   "file_extension": ".py",
   "mimetype": "text/x-python",
   "name": "python",
   "nbconvert_exporter": "python",
   "pygments_lexer": "ipython3",
   "version": "3.12.4"
  }
 },
 "nbformat": 4,
 "nbformat_minor": 5
}
