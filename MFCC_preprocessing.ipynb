{
 "cells": [
  {
   "cell_type": "code",
   "execution_count": 1,
   "id": "a4f46078-ce5e-4de1-be2c-6a25518f48bf",
   "metadata": {},
   "outputs": [],
   "source": [
    "import librosa\n",
    "import numpy as np\n",
    "import matplotlib.pyplot as plt\n",
    "import pandas as pd\n",
    "import os"
   ]
  },
  {
   "cell_type": "code",
   "execution_count": 2,
   "id": "370e363a-f554-48cb-8719-466d81c7b388",
   "metadata": {},
   "outputs": [],
   "source": [
    "folder_path = 'C:\\\\Users\\\\arm20dh\\\\OneDrive - Florida State University\\\\Desktop\\\\Career\\\\Personal_Project\\\\Compressed_Data'\n",
    "for folders in os.listdir(folder_path):\n",
    "    X = pd.DataFrame(index = range(999), columns = range(21))\n",
    "    X.columns = ['mfcc0','mfcc1','mfcc2','mfcc3','mfcc4','mfcc5','mfcc6','mfcc7','mfcc8','mfcc9','mfcc10','mfcc11','mfcc12','bpm','zerocrossing','tonnetz0','tonnetz1','tonnetz2','tonnetz3','tonnetz4','tonnetz5']\n",
    "    file_index = 0\n",
    "    row_names = []\n",
    "    folders = os.path.join(folder_path,folders)\n",
    "    for file_name in os.listdir(folders):\n",
    "            row_names.append(file_name)\n",
    "            file_path = os.path.join(folders, file_name)\n",
    "            y, sr = librosa.load(file_path, sr=None)\n",
    "            k = 0\n",
    "            for j in range(21):\n",
    "                if j < 13:\n",
    "                    mfcc = librosa.feature.mfcc(y=y, sr=sr, n_mfcc=13, hop_length=int(sr/43))\n",
    "                    X.iloc[file_index,j] = sum(mfcc[j])/len(mfcc[j])\n",
    "                elif j == 13:\n",
    "                    X.iloc[file_index,j] = librosa.feature.tempo(y=y, sr=sr)[0]\n",
    "                elif j == 14:\n",
    "                    X.iloc[file_index,j] = sum(librosa.feature.zero_crossing_rate(y=y)[0])/len(librosa.feature.zero_crossing_rate(y=y)[0])\n",
    "                elif j < 22:\n",
    "                    ton = librosa.feature.tonnetz(y=y,sr=sr)\n",
    "                    X.iloc[file_index,j] = sum(ton[k])/len(ton[k])\n",
    "                    k = k + 1\n",
    "            file_index = file_index + 1    \n",
    "    X.index = row_names\n",
    "    X.to_csv(folders+'_X.csv')"
   ]
  },
  {
   "cell_type": "code",
   "execution_count": 32,
   "id": "4214ee4f-bb5a-4393-92be-860ae78325ed",
   "metadata": {},
   "outputs": [],
   "source": [
    "directory = \"RAW_MUSIC_DATA\"\n",
    "file_list = os.listdir(directory)\n",
    "data = []\n",
    "\n",
    "for file_name in file_list:\n",
    "    if file_name.startswith(\"blues\"):\n",
    "        genre = 0\n",
    "    elif file_name.startswith(\"classical\"):\n",
    "        genre = 1 \n",
    "    elif file_name.startswith(\"country\"):\n",
    "        genre = 2\n",
    "    elif file_name.startswith(\"disco\"):\n",
    "        genre = 3\n",
    "    elif file_name.startswith(\"hiphop\"):\n",
    "        genre = 4\n",
    "    elif file_name.startswith(\"jazz\"):\n",
    "        genre = 5\n",
    "    elif file_name.startswith(\"metal\"):\n",
    "        genre = 6\n",
    "    elif file_name.startswith(\"pop\"):\n",
    "        genre = 7\n",
    "    elif file_name.startswith(\"reggae\"):\n",
    "        genre = 8\n",
    "    elif file_name.startswith(\"rock\"):\n",
    "        genre = 9\n",
    "    else:\n",
    "        genre = None\n",
    "    data.append({'genre': genre})\n",
    "\n",
    "target = pd.DataFrame(data, index=file_list)"
   ]
  }
 ],
 "metadata": {
  "kernelspec": {
   "display_name": "Python 3 (ipykernel)",
   "language": "python",
   "name": "python3"
  },
  "language_info": {
   "codemirror_mode": {
    "name": "ipython",
    "version": 3
   },
   "file_extension": ".py",
   "mimetype": "text/x-python",
   "name": "python",
   "nbconvert_exporter": "python",
   "pygments_lexer": "ipython3",
   "version": "3.12.4"
  }
 },
 "nbformat": 4,
 "nbformat_minor": 5
}
